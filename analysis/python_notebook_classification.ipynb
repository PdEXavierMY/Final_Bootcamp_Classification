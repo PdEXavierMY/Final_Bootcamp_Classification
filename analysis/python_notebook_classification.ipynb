{
 "cells": [
  {
   "attachments": {},
   "cell_type": "markdown",
   "metadata": {},
   "source": [
    "### En este notebook vamos a explicar el proceso de data cleaning y a responder las preguntas en python propuestas"
   ]
  },
  {
   "cell_type": "code",
   "execution_count": null,
   "metadata": {},
   "outputs": [],
   "source": [
    "#Vamos a realizar un modelo de classification en los datos de unos clientes de banco \n",
    "#para estudiar y predecir el comportamiento de los clientes en función de sus características\n",
    "\n",
    "#primero importamos las librerías necesarias\n",
    "import pandas as pd\n",
    "import os\n",
    "pd.set_option('display.max_columns', None)\n",
    "import numpy as np\n",
    "import streamlit as st\n",
    "\n",
    "import pylab as plt\n",
    "import seaborn as sns\n",
    "\n",
    "from sklearn.linear_model import LogisticRegression\n",
    "\n",
    "from sklearn.preprocessing import MinMaxScaler\n",
    "from sklearn.preprocessing import LabelEncoder\n",
    "\n",
    "from sklearn.model_selection import train_test_split\n",
    "\n",
    "from sklearn.metrics import f1_score, confusion_matrix, recall_score, precision_score\n",
    "\n",
    "from imblearn.over_sampling import SMOTE, RandomOverSampler\n",
    "\n",
    "import warnings\n",
    "warnings.filterwarnings('ignore')"
   ]
  },
  {
   "cell_type": "code",
   "execution_count": null,
   "metadata": {},
   "outputs": [],
   "source": [
    "# Importamos los datos\n",
    "data = pd.read_csv('./data/creditcardmarketing.csv')"
   ]
  },
  {
   "attachments": {},
   "cell_type": "markdown",
   "metadata": {},
   "source": [
    "1. 'Select all the data from table `credit_card_data` to check if the data was imported correctly.'"
   ]
  },
  {
   "cell_type": "code",
   "execution_count": null,
   "metadata": {},
   "outputs": [],
   "source": [
    "print(data) #vemos que se ha importado correctamente"
   ]
  },
  {
   "attachments": {},
   "cell_type": "markdown",
   "metadata": {},
   "source": [
    "2. 'Select all the data from the table to verify if the command worked. Limit your returned results to 10.'"
   ]
  },
  {
   "cell_type": "code",
   "execution_count": null,
   "metadata": {},
   "outputs": [],
   "source": [
    "print(data.head(10), \"\\n\") #vemos las 10 primeras filas del dataset"
   ]
  },
  {
   "attachments": {},
   "cell_type": "markdown",
   "metadata": {},
   "source": [
    "3. 'Use code to find how many rows of data you have.'"
   ]
  },
  {
   "cell_type": "code",
   "execution_count": null,
   "metadata": {},
   "outputs": [],
   "source": [
    "#sacamos la información de los datos para revisar si necesitamos hacer algún ajuste a nuestros dataset\n",
    "#analizamos el dataset\n",
    "\n",
    "print(\"Estructura de los datos: \", data.shape, \"\\n\") #vemos las filas y columnas que tenemos\n",
    "print(data.describe(), \"\\n\")\n",
    "print(data.info(), \"\\n\")\n",
    "print(data.isnull().sum(), \"\\n\")\n",
    "#Inside de lo printeado\n",
    "\n",
    "#Hay varias columnas con varos nulos que analizaremos más adelante, y varias columnas no numericas\n",
    "#que también modificaremos."
   ]
  },
  {
   "cell_type": "code",
   "execution_count": null,
   "metadata": {},
   "outputs": [],
   "source": [
    "#vamos con los valores nulos. Como son numericos los rellenaremos con la media de la columna\n",
    "#las columnas que vamos a rellenar con la media son las siguientes: average_balance,balanceq1,balanceq2,balanceq3,balanceq4\n",
    "\n",
    "data['average_balance'].fillna(data['average_balance'].mean(), inplace=True)\n",
    "data['balanceq1'].fillna(data['balanceq1'].mean(), inplace=True)\n",
    "data['balanceq2'].fillna(data['balanceq2'].mean(), inplace=True)\n",
    "data['balanceq3'].fillna(data['balanceq3'].mean(), inplace=True)\n",
    "data['balanceq4'].fillna(data['balanceq4'].mean(), inplace=True)\n",
    "\n",
    "\n",
    "#comprobamos que no hay más valores nulos\n",
    "print(data.isnull().sum(), \"\\n\")\n",
    "#no los hay, asi que continuamos"
   ]
  },
  {
   "attachments": {},
   "cell_type": "markdown",
   "metadata": {},
   "source": [
    "4. 'Now find the unique values in some of columns:\n",
    "\n",
    "    - What are the unique values in the column `Offer Accepted`?\n",
    "    - What are the unique values in the column `Reward`?\n",
    "    - What are the unique values in the column `Mailer Type`?\n",
    "    - What are the unique values in the column `# Credit Cards Held`?\n",
    "    - What are the unique values in the column `household_size`?'\n"
   ]
  },
  {
   "cell_type": "code",
   "execution_count": null,
   "metadata": {},
   "outputs": [],
   "source": [
    "\n",
    "#ahora vamos a gestionar las columnas no numéricas\n",
    "#vamos a ver los valores unicos de estas columnas: offer_acepted,reward,mailer_type,credits_cards_held,household_size\n",
    "\n",
    "print(data['offer_acepted'].unique(), \"\\n\")\n",
    "print(data['reward'].unique(), \"\\n\")\n",
    "print(data['mailer_type'].unique(), \"\\n\")\n",
    "print(data['credits_cards_held'].unique(), \"\\n\")\n",
    "print(data['household_size'].unique(), \"\\n\")\n",
    "\n",
    "#vamos cambiar a numericos los valores de las columnas offer_acepted,reward, mailer_type, overdraft_protection, own_home\n",
    "\n",
    "data['offer_acepted'] = data['offer_acepted'].map({'No': 0, 'Yes': 1})\n",
    "data['reward'] = data['reward'].map({'Air Miles': 0, 'Cash Back': 1, 'Points': 2})\n",
    "data['mailer_type'] = data['mailer_type'].map({'Letter': 0, 'Postcard': 1})\n",
    "data['overdraft_protection'] = data['overdraft_protection'].map({'No': 0, 'Yes': 1})\n",
    "data['own_home'] = data['own_home'].map({'No': 0, 'Yes': 1})\n",
    "\n",
    "\n",
    "#comprobamos que ha funcionado printeando los valores unicos de nuevo\n",
    "print(data['offer_acepted'].unique(), \"\\n\")\n",
    "print(data['reward'].unique(), \"\\n\")\n",
    "print(data['mailer_type'].unique(), \"\\n\")\n",
    "print(data['overdraft_protection'].unique(), \"\\n\")\n",
    "print(data['own_home'].unique(), \"\\n\")\n",
    "\n",
    "#todo perfect(las demás columnas no numéricas las vamos a ver más adelante)"
   ]
  },
  {
   "attachments": {},
   "cell_type": "markdown",
   "metadata": {},
   "source": [
    "5. 'Arrange the data in decreasing order by the `average_balance`. Return only the `customer_number` of the top 10 customers with the highest `average_balances` in your data.'"
   ]
  },
  {
   "cell_type": "code",
   "execution_count": null,
   "metadata": {},
   "outputs": [],
   "source": [
    "#vamos a sacar en orden descendente los 10 clientes con mayor balance medio con su balance medio\n",
    "data1 = data.sort_values(by='average_balance', ascending=False)\n",
    "print(data1[['customer_number', 'average_balance']].head(10), \"\\n\")"
   ]
  },
  {
   "attachments": {},
   "cell_type": "markdown",
   "metadata": {},
   "source": [
    "6.  'What is the average of `Average Balance` of all the customers in your data?'"
   ]
  },
  {
   "cell_type": "code",
   "execution_count": null,
   "metadata": {},
   "outputs": [],
   "source": [
    "#vamos a sacar la media de la columna average_balance, es decir, la media del balance medio de los clientes\n",
    "print(data['average_balance'].mean(), \"\\n\")"
   ]
  },
  {
   "attachments": {},
   "cell_type": "markdown",
   "metadata": {},
   "source": [
    "7. 'In this exercise use  `groupby` to check the properties of some of the categorical variables in our data. Note wherever `average_balance` is asked in the questions below, please take the average of the column `average_balance`. Show the results in a data frame and a plot. \n",
    "\n",
    "    - What is the average balance of the customers grouped by `Income Level`? The returned result should have only two columns, `Income` and `Average Balance` of the customers. \n",
    "    - What is the average balance of the customers grouped by `number_of_bank_accounts_open`? The returned result should have only two columns, `number_of_bank_aaccounts_open` and `Average Balance` of the customers. \n",
    "    - What is the average number of credit cards held by customers for each of the credit card ratings? The returned result should have only two columns, `rating` and `average number of credit cards`.\n",
    "    - Is there any correlation between the columns `credit_cards_held` and `number_of_bank_accounts_open`? You can analyze this by grouping the data by one of the variables and then aggregating the results of the other column. Visually check if there is a positive correlation or negative correlation or no correlation between the variables.\n",
    "    - Check the number of customers in each category (ie number of credit cards held) to assess if that category is well represented in the dataset to include it in your analysis. For eg. If the category is under-represented as compared to other categories, ignore that category in this analysis\n",
    "'"
   ]
  },
  {
   "cell_type": "code",
   "execution_count": null,
   "metadata": {},
   "outputs": [],
   "source": [
    "\n",
    "#vamos a sacar la media del balance medio de los clientes agrupados por nivel de ingresos\n",
    "print(data.groupby('income_level')[['income_level', 'average_balance']].mean(), \"\\n\")\n",
    "\n",
    "#vamos a sacar la media del balance medio de los clientes agrupados por número de cuentas bancarias abiertas\n",
    "print(data.groupby('banks_accounts_open')['average_balance'].mean(), \"\\n\")\n",
    "\n",
    "#vamos a sacar la media del número de tarjetas de crédito que tienen los clientes agrupados por rating de tarjetas de crédito\n",
    "print(data.groupby('credit_rating')[['credit_rating', 'credits_cards_held']].mean(), \"\\n\")\n",
    "\n",
    "#vamos a sacar la media del número de tarjetas de crédito que tienen los clientes agrupados por número de cuentas bancarias abiertas\n",
    "print(data.groupby('banks_accounts_open')[['banks_accounts_open', 'credits_cards_held']].mean(), \"\\n\")\n",
    "#estos datos nos aproximan la correlacion entre el numero de cuentas bancarias abiertas y el numero de tarjetas de credito que tienen los clientes,\n",
    "#pero para conocer con más precisión el resultado podemos fijarnos en la matriz de correlacion del principio\n",
    "#conclusión: no hay correlacion significativa entre el numero de cuentas bancarias abiertas y el numero de tarjetas de credito que tienen los clientes\n",
    "\n",
    "#vamos a sacar el número de clientes en cada categoría (es decir, número de tarjetas de crédito que tienen) para evaluar si esa categoría está bien representada en el conjunto de datos para incluirla en su análisis. Por ejemplo. Si la categoría está subrepresentada en comparación con otras categorías, ignoraremos esa categoría en este análisis\n",
    "print(data.groupby('credits_cards_held')['customer_number'].count(), \"\\n\")\n"
   ]
  },
  {
   "attachments": {},
   "cell_type": "markdown",
   "metadata": {},
   "source": [
    "8. 'Your managers are only interested in the customers with the following properties:\n",
    "\n",
    "    - Credit rating medium or high\n",
    "    - Credit cards held 2 or less\n",
    "    - Owns their own home\n",
    "    - Household size 3 or more\n",
    "\n",
    "    For the rest of the things, they are not too concerned. Write code to find what are the options available for them. \n",
    "\n",
    "    Can you filter the customers who accepted the offers here?\n",
    "'"
   ]
  },
  {
   "cell_type": "code",
   "execution_count": null,
   "metadata": {},
   "outputs": [],
   "source": [
    "\n",
    "#ahora vamos a filtrar y sacar los clientes que tienen credit_rating = medium o high, credit_cards_held = 2 o menos, own_home = Yes y household_size = 3 o más\n",
    "data_interesante = data[(data['credit_rating'] == 'Medium') | (data['credit_rating'] == 'High') & (data['credits_cards_held'] <= 2) & (data['own_home'] == 'Yes') & (data['household_size'] >= 3)]\n",
    "print(data_interesante, \"\\n\")"
   ]
  },
  {
   "attachments": {},
   "cell_type": "markdown",
   "metadata": {},
   "source": [
    "9. 'Your managers want to find out the list of customers whose average balance is less than the average balance of all the customers in the database. Write a query to show them the list of such customers.'"
   ]
  },
  {
   "cell_type": "code",
   "execution_count": null,
   "metadata": {},
   "outputs": [],
   "source": [
    "\n",
    "#sacamos los clientes con un average_balance < a la media de la columna average_balance\n",
    "data_average_balance = data[data['average_balance'] < data['average_balance'].mean()]\n",
    "data_average_balance.sort_values(by='average_balance', ascending=True)\n",
    "print(data_average_balance[['customer_number', 'average_balance']], \"\\n\")"
   ]
  },
  {
   "attachments": {},
   "cell_type": "markdown",
   "metadata": {},
   "source": [
    "10. 'What is the number of people who accepted the offer vs the number of people who did not?'"
   ]
  },
  {
   "cell_type": "code",
   "execution_count": null,
   "metadata": {},
   "outputs": [],
   "source": [
    "\n",
    "\n",
    "#sacamos el numero de clientes que aceptan la oferta y el numero de clientes que no aceptan la oferta\n",
    "print(data.groupby('offer_acepted')['customer_number'].count(), \"\\n\")\n",
    "#recordar 0 = oferta no aceptada y 1 = oferta aceptada"
   ]
  },
  {
   "attachments": {},
   "cell_type": "markdown",
   "metadata": {},
   "source": [
    "11. 'Your managers are more interested in customers with a credit rating of high or medium. What is the difference in average balances of the customers with high credit card rating and low credit card rating?'"
   ]
  },
  {
   "cell_type": "code",
   "execution_count": null,
   "metadata": {},
   "outputs": [],
   "source": [
    "\n",
    "\n",
    "#sacamos los datos con credit rating = high or low\n",
    "data_credit_rating = data[(data['credit_rating'] == 'High') | (data['credit_rating'] == 'Low')]\n",
    "#sacamos la media de el average balance de los clientes con credit rating = high or low\n",
    "print(data_credit_rating.groupby('credit_rating')[['credit_rating', 'average_balance']].mean(), \"\\n\")\n",
    "print(\"La diferencia entre la media de balances de aquellos clientes con un rating alto y uno bajo es \", (data_credit_rating.groupby('credit_rating')['average_balance'].mean().iloc[0]-data_credit_rating.groupby('credit_rating')['average_balance'].mean().iloc[1]), \"\\n\")"
   ]
  },
  {
   "attachments": {},
   "cell_type": "markdown",
   "metadata": {},
   "source": [
    "12. 'In the database, which all types of communication (`Mailer Type`) were used and with how many customers?'"
   ]
  },
  {
   "cell_type": "code",
   "execution_count": null,
   "metadata": {},
   "outputs": [],
   "source": [
    "\n",
    "#vamos a ver los tipos de mailer_type que hay y con cuantos clientes se han usado\n",
    "print(data.groupby('mailer_type')['customer_number'].count(), \"\\n\")"
   ]
  },
  {
   "attachments": {},
   "cell_type": "markdown",
   "metadata": {},
   "source": [
    "13. 'Provide the details of the customer that is the 11th least `Q1_balance` in your database.'"
   ]
  },
  {
   "cell_type": "code",
   "execution_count": null,
   "metadata": {},
   "outputs": [],
   "source": [
    "#por ultimo vamos a sacar al onceavo cliente con menos balanceq1 en nuestro dataset\n",
    "data2 = data.sort_values(by='balanceq1', ascending=True)\n",
    "print(data2.iloc[10], \"\\n\")"
   ]
  },
  {
   "attachments": {},
   "cell_type": "markdown",
   "metadata": {},
   "source": [
    "Terminamos después de las preguntas el data cleaning"
   ]
  },
  {
   "cell_type": "code",
   "execution_count": null,
   "metadata": {},
   "outputs": [],
   "source": [
    "\n",
    "\n",
    "#vamos ahora a terminar con las columnas no numéricas\n",
    "print(data.dtypes, \"\\n\")\n",
    "#las columnas balanceq1, balanceq2, balanceq3 y balanceq4 no nos sirven para el modelo de clasificacion asi que las vamos a eliminar\n",
    "data = data.drop(['balanceq1', 'balanceq2', 'balanceq3', 'balanceq4'], axis=1)\n",
    "#ahora con las dos columnas que nos quedan vamos a cambiarlas a numericas manualmente\n",
    "data['credit_rating'] = data['credit_rating'].map({'Low': 0, 'Medium': 1, 'High': 2})\n",
    "data['income_level'] = data['income_level'].map({'Low': 0, 'Medium': 1, 'High': 2})\n",
    "#volvemos a ver los tipos de datos\n",
    "print(data.dtypes, \"\\n\")\n",
    "#ya tenemos todas las columnas numericas\n",
    "#finalmente vamos a guardar el dataset en un nuevo csv\n",
    "data.to_csv('data/creditcardmarketing_clean.csv', index=False)\n",
    "\n",
    "#con el dataset ya limpio, volvemos a ver la matriz de correlacion\n",
    "plt.figure(figsize=(15, 10))\n",
    "sns.set(style='white')\n",
    "mask=np.triu(np.ones_like(data.corr(), dtype=bool))\n",
    "cmap=sns.diverging_palette(0, 10, as_cmap=True)\n",
    "sns.heatmap(data.corr(),\n",
    "          mask=mask,\n",
    "          cmap=cmap,\n",
    "          center=0,\n",
    "          square=True,\n",
    "          annot=True,\n",
    "          linewidths=0.5,\n",
    "          cbar_kws={'shrink': 0.5})\n",
    "plt.show()"
   ]
  }
 ],
 "metadata": {
  "kernelspec": {
   "display_name": "Python 3",
   "language": "python",
   "name": "python3"
  },
  "language_info": {
   "name": "python",
   "version": "3.10.0 (tags/v3.10.0:b494f59, Oct  4 2021, 19:00:18) [MSC v.1929 64 bit (AMD64)]"
  },
  "orig_nbformat": 4,
  "vscode": {
   "interpreter": {
    "hash": "946a0cf01342572bc9f6fe0b7b06226e03099b1e781d9982757128fc69dddf14"
   }
  }
 },
 "nbformat": 4,
 "nbformat_minor": 2
}
