{
 "cells": [
  {
   "cell_type": "markdown",
   "metadata": {},
   "source": [
    "# MODELO DE CLASIFICACIÓN"
   ]
  },
  {
   "cell_type": "markdown",
   "metadata": {},
   "source": [
    "Vamos a comenzar este modelo de clasificación importando las librerias necesarias para el posterior análisis del dataset provisto."
   ]
  },
  {
   "cell_type": "code",
   "execution_count": null,
   "metadata": {},
   "outputs": [],
   "source": [
    "import pandas as pd\n",
    "pd.set_option('display.max_columns', None)\n",
    "\n",
    "import numpy as np\n",
    "\n",
    "import pylab as plt                                # plotting library\n",
    "import seaborn as sns                              # plotting library\n",
    "sns.set(style='white')                             # seaborn style\n",
    "\n",
    "\n",
    "from sklearn.linear_model import LogisticRegression            # logistic regression model   \n",
    "from sklearn.preprocessing import MinMaxScaler                 # standarized\n",
    "from sklearn.preprocessing import LabelEncoder                 # Para codificar nuestra variable a predecir\n",
    "\n",
    "from sklearn.model_selection import train_test_split     # split data into train and test sets\n",
    "\n",
    "import warnings\n",
    "warnings.filterwarnings('ignore')"
   ]
  },
  {
   "cell_type": "markdown",
   "metadata": {},
   "source": [
    "Ahora importamos el csv bajo el nombre "
   ]
  }
 ],
 "metadata": {
  "kernelspec": {
   "display_name": "Python 3 (ipykernel)",
   "language": "python",
   "name": "python3"
  },
  "language_info": {
   "codemirror_mode": {
    "name": "ipython",
    "version": 3
   },
   "file_extension": ".py",
   "mimetype": "text/x-python",
   "name": "python",
   "nbconvert_exporter": "python",
   "pygments_lexer": "ipython3",
   "version": "3.9.12"
  },
  "vscode": {
   "interpreter": {
    "hash": "a3b6f5404b8aa66c2120bcd357f8636f4e69064e9b51bc2574eb4f112ad1e2e0"
   }
  }
 },
 "nbformat": 4,
 "nbformat_minor": 2
}
