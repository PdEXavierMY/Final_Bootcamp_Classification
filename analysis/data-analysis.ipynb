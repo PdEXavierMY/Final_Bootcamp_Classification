{
 "cells": [],
 "metadata": {
  "kernelspec": {
   "display_name": "Python 3.9.7 64-bit",
   "language": "python",
   "name": "python3"
  },
  "language_info": {
   "name": "python",
   "version": "3.9.7"
  },
  "orig_nbformat": 4,
  "vscode": {
   "interpreter": {
    "hash": "a3b6f5404b8aa66c2120bcd357f8636f4e69064e9b51bc2574eb4f112ad1e2e0"
   }
  }
 },
 "nbformat": 4,
 "nbformat_minor": 2
}
