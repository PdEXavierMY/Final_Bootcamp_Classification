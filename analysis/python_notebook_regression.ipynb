{
 "cells": [
  {
   "cell_type": "markdown",
   "metadata": {},
   "source": [
    "Importamos todo lo necesario"
   ]
  },
  {
   "cell_type": "code",
   "execution_count": 1,
   "metadata": {},
   "outputs": [],
   "source": [
    "import pandas as pd\n",
    "import numpy as np\n",
    "import matplotlib.pyplot as plt\n",
    "import seaborn as sns\n",
    "import warnings\n",
    "warnings.filterwarnings('ignore')\n",
    "%matplotlib inline"
   ]
  },
  {
   "cell_type": "markdown",
   "metadata": {},
   "source": [
    "Cargamos los datos"
   ]
  },
  {
   "cell_type": "code",
   "execution_count": 2,
   "metadata": {},
   "outputs": [
    {
     "name": "stdout",
     "output_type": "stream",
     "text": [
      "Cargamos el csv con la librería pandas\n",
      "           id        date  bedrooms bathrooms  sqft_living  sqft_lot floors  \\\n",
      "0  7129300520  13/10/2014         3         1         1180      5650      1   \n",
      "1  6414100192  09/12/2014         3      2,25         2570      7242      2   \n",
      "2  5631500400  25/02/2015         2         1          770     10000      1   \n",
      "3  2487200875  09/12/2014         4         3         1960      5000      1   \n",
      "4  1954400510  18/02/2015         3         2         1680      8080      1   \n",
      "\n",
      "   waterfront  view  condition  ...  sqft_above  sqft_basement  yr_built  \\\n",
      "0           0     0          3  ...        1180              0      1955   \n",
      "1           0     0          3  ...        2170            400      1951   \n",
      "2           0     0          3  ...         770              0      1933   \n",
      "3           0     0          5  ...        1050            910      1965   \n",
      "4           0     0          3  ...        1680              0      1987   \n",
      "\n",
      "   yr_renovated  zipcode      lat      long sqft_living15  sqft_lot15   price  \n",
      "0             0    98178  47,5112  -122,257          1340        5650  221900  \n",
      "1          1991    98125   47,721  -122,319          1690        7639  538000  \n",
      "2             0    98028  47,7379  -122,233          2720        8062  180000  \n",
      "3             0    98136  47,5208  -122,393          1360        5000  604000  \n",
      "4             0    98074  47,6168  -122,045          1800        7503  510000  \n",
      "\n",
      "[5 rows x 21 columns]\n",
      "Examinamos el csv\n",
      "Las columnas son:\n",
      "\n",
      "Index(['id', 'date', 'bedrooms', 'bathrooms', 'sqft_living', 'sqft_lot',\n",
      "       'floors', 'waterfront', 'view', 'condition', 'grade', 'sqft_above',\n",
      "       'sqft_basement', 'yr_built', 'yr_renovated', 'zipcode', 'lat', 'long',\n",
      "       'sqft_living15', 'sqft_lot15', 'price'],\n",
      "      dtype='object')\n",
      "La descripción del csv es:\n",
      "\n",
      "                 id      bedrooms   sqft_living      sqft_lot    waterfront  \\\n",
      "count  2.159700e+04  21597.000000  21597.000000  2.159700e+04  21597.000000   \n",
      "mean   4.580474e+09      3.373200   2080.321850  1.509941e+04      0.007547   \n",
      "std    2.876736e+09      0.926299    918.106125  4.141264e+04      0.086549   \n",
      "min    1.000102e+06      1.000000    370.000000  5.200000e+02      0.000000   \n",
      "25%    2.123049e+09      3.000000   1430.000000  5.040000e+03      0.000000   \n",
      "50%    3.904930e+09      3.000000   1910.000000  7.618000e+03      0.000000   \n",
      "75%    7.308900e+09      4.000000   2550.000000  1.068500e+04      0.000000   \n",
      "max    9.900000e+09     33.000000  13540.000000  1.651359e+06      1.000000   \n",
      "\n",
      "               view     condition         grade    sqft_above  sqft_basement  \\\n",
      "count  21597.000000  21597.000000  21597.000000  21597.000000   21597.000000   \n",
      "mean       0.234292      3.409825      7.657915   1788.596842     291.725008   \n",
      "std        0.766390      0.650546      1.173200    827.759761     442.667800   \n",
      "min        0.000000      1.000000      3.000000    370.000000       0.000000   \n",
      "25%        0.000000      3.000000      7.000000   1190.000000       0.000000   \n",
      "50%        0.000000      3.000000      7.000000   1560.000000       0.000000   \n",
      "75%        0.000000      4.000000      8.000000   2210.000000     560.000000   \n",
      "max        4.000000      5.000000     13.000000   9410.000000    4820.000000   \n",
      "\n",
      "           yr_built  yr_renovated       zipcode  sqft_living15     sqft_lot15  \\\n",
      "count  21597.000000  21597.000000  21597.000000   21597.000000   21597.000000   \n",
      "mean    1970.999676     84.464787  98077.951845    1986.620318   12758.283512   \n",
      "std       29.375234    401.821438     53.513072     685.230472   27274.441950   \n",
      "min     1900.000000      0.000000  98001.000000     399.000000     651.000000   \n",
      "25%     1951.000000      0.000000  98033.000000    1490.000000    5100.000000   \n",
      "50%     1975.000000      0.000000  98065.000000    1840.000000    7620.000000   \n",
      "75%     1997.000000      0.000000  98118.000000    2360.000000   10083.000000   \n",
      "max     2015.000000   2015.000000  98199.000000    6210.000000  871200.000000   \n",
      "\n",
      "              price  \n",
      "count  2.159700e+04  \n",
      "mean   5.402966e+05  \n",
      "std    3.673681e+05  \n",
      "min    7.800000e+04  \n",
      "25%    3.220000e+05  \n",
      "50%    4.500000e+05  \n",
      "75%    6.450000e+05  \n",
      "max    7.700000e+06  \n"
     ]
    }
   ],
   "source": [
    "print(\"Cargamos el csv con la librería pandas\")\n",
    "dataframe = pd.read_csv('../data/regression_data.csv', delimiter=';')\n",
    "print(dataframe.head())\n",
    "print(\"Examinamos el csv\")\n",
    "print('Las columnas son:\\n')\n",
    "print(dataframe.columns)\n",
    "print('La descripción del csv es:\\n')\n",
    "print(dataframe.describe())"
   ]
  },
  {
   "cell_type": "markdown",
   "metadata": {},
   "source": [
    "Observaciones:\n",
    "\n",
    "Las columnas no numéricas son : date, bathrooms, floor, lat, long\n",
    "Como queremos predecir el precio, la columna que va a ir por separado es price\n",
    "Para predecir el precio necesitamos: bedrooms, bathrooms, sqft, floors, condiciones, grade, year_built, year_renovate, waterview\n",
    "lat, long y zipcode no nos influye ya que estan todas las casas en la misma zona de Seattle, Tacoma y alrededores, gracias a Google Maps"
   ]
  },
  {
   "cell_type": "code",
   "execution_count": 3,
   "metadata": {},
   "outputs": [
    {
     "name": "stdout",
     "output_type": "stream",
     "text": [
      "Hacemos una copia de los datos\n",
      "Los datos que son floats que no tengan sentido, como 2,5 baños, vamos a pasarlos a integers:\n"
     ]
    }
   ],
   "source": [
    "print(\"Hacemos una copia de los datos\")\n",
    "copia_dataframe = dataframe.copy()\n",
    "print(\"Los datos que son floats que no tengan sentido, como 2,5 baños, vamos a pasarlos a integers:\")"
   ]
  },
  {
   "cell_type": "code",
   "execution_count": 4,
   "metadata": {},
   "outputs": [
    {
     "name": "stdout",
     "output_type": "stream",
     "text": [
      "0        1\n",
      "1        2\n",
      "2        1\n",
      "3        3\n",
      "4        2\n",
      "        ..\n",
      "21592    2\n",
      "21593    2\n",
      "21594    1\n",
      "21595    2\n",
      "21596    1\n",
      "Name: bathrooms, Length: 21597, dtype: object\n",
      "0        1\n",
      "1        2\n",
      "2        1\n",
      "3        1\n",
      "4        1\n",
      "        ..\n",
      "21592    3\n",
      "21593    2\n",
      "21594    2\n",
      "21595    2\n",
      "21596    2\n",
      "Name: floors, Length: 21597, dtype: object\n"
     ]
    }
   ],
   "source": [
    "def redondear_datos(columna):\n",
    "    for i in range(len(dataframe)):\n",
    "        if ',' in dataframe[columna][i]:\n",
    "            dataframe[columna][i] = float(\n",
    "                dataframe[columna][i].replace(',', '.'))\n",
    "            dataframe[columna][i] = round(dataframe[columna][i])\n",
    "        else:\n",
    "            dataframe[columna][i] = int(dataframe[columna][i])\n",
    "    return dataframe\n",
    "\n",
    "\n",
    "datos_a_redondear = ['bathrooms', 'floors']\n",
    "for i in datos_a_redondear:\n",
    "    redondear_datos(i)\n",
    "    print(dataframe[i])"
   ]
  },
  {
   "cell_type": "markdown",
   "metadata": {},
   "source": [
    "Ahora vamos a quitar las columnas que no nos hacen falta: lat, long, date, zipcode"
   ]
  },
  {
   "cell_type": "code",
   "execution_count": 5,
   "metadata": {},
   "outputs": [],
   "source": [
    "\n",
    "dataframe = dataframe.drop(columns=['date', 'lat', 'long'], axis=1)"
   ]
  },
  {
   "cell_type": "markdown",
   "metadata": {},
   "source": [
    "Para facilitar el análisis, vamos a agrupar todas las columnas que contengan mediciones en metros cuadrados, creando así una única columna con todos los metros cuadrados de la casa.\n",
    "Tendremos al final dos columnas: la medida del terreno (lot) y la medida de la casa (living)\n",
    "No nos interesan las medidas anteriores a las reformas ya que no existen.\n",
    "above y basement los quitamos ya que living es la suma de estas, y en el precio influyen los metos cuadrados totales"
   ]
  },
  {
   "cell_type": "code",
   "execution_count": 6,
   "metadata": {},
   "outputs": [
    {
     "name": "stdout",
     "output_type": "stream",
     "text": [
      "           id  bedrooms bathrooms floors  waterfront  view  condition  grade  \\\n",
      "0  7129300520         3         1      1           0     0          3      7   \n",
      "1  6414100192         3         2      2           0     0          3      7   \n",
      "2  5631500400         2         1      1           0     0          3      6   \n",
      "3  2487200875         4         3      1           0     0          5      7   \n",
      "4  1954400510         3         2      1           0     0          3      8   \n",
      "\n",
      "   yr_built  yr_renovated  zipcode  sqft_living15  sqft_lot15   price  \n",
      "0      1955             0    98178           1340        5650  221900  \n",
      "1      1951          1991    98125           1690        7639  538000  \n",
      "2      1933             0    98028           2720        8062  180000  \n",
      "3      1965             0    98136           1360        5000  604000  \n",
      "4      1987             0    98074           1800        7503  510000  \n",
      "Index(['id', 'bedrooms', 'bathrooms', 'floors', 'waterfront', 'view',\n",
      "       'condition', 'grade', 'yr_built', 'yr_renovated', 'zipcode',\n",
      "       'sqft_living15', 'sqft_lot15', 'price'],\n",
      "      dtype='object')\n"
     ]
    }
   ],
   "source": [
    "dataframe = dataframe.drop(columns=['sqft_above', 'sqft_basement',\n",
    "                                    'sqft_living', 'sqft_lot'], axis=1)\n",
    "print(dataframe.head())\n",
    "print(dataframe.columns)"
   ]
  },
  {
   "cell_type": "markdown",
   "metadata": {},
   "source": [
    "Las columnas que tengan que ver con numero de habitaciones, las podemos agrupar para simplificar los cálculos\n",
    "Creamos una nueva columna llamada habitaciones que será la suma de las columnas bedrooms y bathrooms"
   ]
  },
  {
   "cell_type": "code",
   "execution_count": 7,
   "metadata": {},
   "outputs": [],
   "source": [
    "dataframe['rooms'] = 0\n",
    "for i in range(len(dataframe['bedrooms'])):\n",
    "    dataframe['rooms'][i] = int(\n",
    "        dataframe['bedrooms'][i]) + int(dataframe['bathrooms'][i])"
   ]
  },
  {
   "cell_type": "markdown",
   "metadata": {},
   "source": [
    "Exportamos el csv organizado y limpio"
   ]
  },
  {
   "cell_type": "code",
   "execution_count": 8,
   "metadata": {},
   "outputs": [],
   "source": [
    "dataframe.to_csv('../data/regression_data_clean.csv', index=False)"
   ]
  },
  {
   "cell_type": "markdown",
   "metadata": {},
   "source": [
    "Cargamos el csv limpio"
   ]
  },
  {
   "cell_type": "code",
   "execution_count": 9,
   "metadata": {},
   "outputs": [],
   "source": [
    "\n",
    "dataframe_regresion = pd.read_csv('../data/regression_data_clean.csv', delimiter=',')"
   ]
  },
  {
   "cell_type": "markdown",
   "metadata": {},
   "source": [
    "How many rows of data do you have?"
   ]
  },
  {
   "cell_type": "code",
   "execution_count": 10,
   "metadata": {},
   "outputs": [
    {
     "name": "stdout",
     "output_type": "stream",
     "text": [
      "(21597, 15)\n"
     ]
    }
   ],
   "source": [
    "print(dataframe_regresion.shape)"
   ]
  },
  {
   "cell_type": "markdown",
   "metadata": {},
   "source": [
    "Find the unique values of the following columns:\n",
    "\n",
    "    - What are the unique values in the column `bedrooms`?\n",
    "\n",
    "    - What are the unique values in the column `bathrooms`?\n",
    "\n",
    "    - What are the unique values in the column `floors`?\n",
    "\n",
    "    - What are the unique values in the column `condition`?\n",
    "    \n",
    "    - What are the unique values in the column `grade`?"
   ]
  },
  {
   "cell_type": "code",
   "execution_count": 11,
   "metadata": {},
   "outputs": [
    {
     "name": "stdout",
     "output_type": "stream",
     "text": [
      "[ 3  2  4  5  1  6  7  8  9 11 10 33]\n",
      "[1 2 3 4 5 6 0 7 8]\n",
      "[1 2 3 4]\n",
      "[3 5 4 1 2]\n",
      "[ 7  6  8 11  9  5 10 12  4  3 13]\n"
     ]
    }
   ],
   "source": [
    "valores_unicos = ['bedrooms', 'bathrooms', 'floors', 'condition', 'grade']\n",
    "\n",
    "for i in valores_unicos:\n",
    "    print(dataframe_regresion[i].unique())"
   ]
  },
  {
   "cell_type": "markdown",
   "metadata": {},
   "source": [
    "Arrange the data in decreasing order by the price of the house. Return only the IDs of the top 10 most expensive houses in your data."
   ]
  },
  {
   "cell_type": "code",
   "execution_count": 12,
   "metadata": {},
   "outputs": [
    {
     "name": "stdout",
     "output_type": "stream",
     "text": [
      "7245    6762700020\n",
      "3910    9808700762\n",
      "9245    9208900037\n",
      "4407    2470100110\n",
      "1446    8907500070\n",
      "1313    7558700030\n",
      "1162    1247600105\n",
      "8085    1924059029\n",
      "2624    7738500731\n",
      "8629    3835500195\n",
      "Name: id, dtype: int64\n"
     ]
    }
   ],
   "source": [
    "dataframe_regresion = dataframe_regresion.sort_values(\n",
    "    by='price', ascending=False)\n",
    "print(dataframe_regresion['id'].head(10))"
   ]
  },
  {
   "cell_type": "markdown",
   "metadata": {},
   "source": [
    "What is the average price of all the properties in your data?"
   ]
  },
  {
   "cell_type": "code",
   "execution_count": 13,
   "metadata": {},
   "outputs": [
    {
     "name": "stdout",
     "output_type": "stream",
     "text": [
      "540296.57\n"
     ]
    }
   ],
   "source": [
    "print(dataframe_regresion['price'].mean().__round__(2))"
   ]
  },
  {
   "cell_type": "markdown",
   "metadata": {},
   "source": [
    "In this exercise use a simple `groupby` to check the properties of some of the categorical variables in our data\n",
    "\n",
    "    - What is the average price of the houses grouped by bedrooms? The returned result should have only two columns: `Bedrooms` and `Average price`.\n",
    "    \n",
    "    - What is the average `sqft_living` of the houses grouped by bedrooms? The returned result should have only two columns, `Bedrooms` and `Average_sqft_living`.\n",
    "    \n",
    "    - What is the average price of the houses with a waterfront and without a waterfront? The returned result should have only two columns, `Waterfront` and `Average_price`.\n",
    "    \n",
    "    - Is there any correlation between the columns `condition` and `grade`? Also, create a plot to visually check if there is a positive correlation or negative correlation or no correlation between both variables.\n",
    "    \n",
    "    - Get the number of houses in each category (ie number of houses for a given `condition`) to assess if that category is well represented in the dataset to include it in your analysis. For eg. If the category is under-represented as compared to other categories, ignore that category in this analysis\"\"\")\n"
   ]
  },
  {
   "cell_type": "code",
   "execution_count": 14,
   "metadata": {},
   "outputs": [
    {
     "name": "stdout",
     "output_type": "stream",
     "text": [
      "bedrooms\n",
      "1     3.182395e+05\n",
      "2     4.013877e+05\n",
      "3     4.662766e+05\n",
      "4     6.355647e+05\n",
      "5     7.868741e+05\n",
      "6     8.258535e+05\n",
      "7     9.514478e+05\n",
      "8     1.105077e+06\n",
      "9     8.939998e+05\n",
      "10    8.200000e+05\n",
      "11    5.200000e+05\n",
      "33    6.400000e+05\n",
      "Name: price, dtype: float64\n",
      "bedrooms\n",
      "1     1452.163265\n",
      "2     1503.785507\n",
      "3     1835.443506\n",
      "4     2291.124818\n",
      "5     2442.706433\n",
      "6     2280.176471\n",
      "7     2335.263158\n",
      "8     2265.384615\n",
      "9     2091.333333\n",
      "10    2193.333333\n",
      "11    1420.000000\n",
      "33    1330.000000\n",
      "Name: sqft_living15, dtype: float64\n",
      "waterfront\n",
      "0    5.317623e+05\n",
      "1    1.662524e+06\n",
      "Name: price, dtype: float64\n",
      "condition\n",
      "1    5.965517\n",
      "2    6.541176\n",
      "3    7.827318\n",
      "4    7.382596\n",
      "5    7.320988\n",
      "Name: grade, dtype: float64\n",
      "795000620     3\n",
      "6632900574    2\n",
      "1781500435    2\n",
      "641900050     2\n",
      "7409700215    2\n",
      "             ..\n",
      "4477000270    1\n",
      "8648700450    1\n",
      "6430500291    1\n",
      "3222059130    1\n",
      "40000362      1\n",
      "Name: id, Length: 21420, dtype: int64\n",
      "3     9824\n",
      "4     6882\n",
      "2     2760\n",
      "5     1601\n",
      "6      272\n",
      "1      196\n",
      "7       38\n",
      "8       13\n",
      "9        6\n",
      "10       3\n",
      "33       1\n",
      "11       1\n",
      "Name: bedrooms, dtype: int64\n",
      "2    13847\n",
      "1     3931\n",
      "3     2527\n",
      "4     1201\n",
      "5       57\n",
      "6       24\n",
      "8        4\n",
      "0        4\n",
      "7        2\n",
      "Name: bathrooms, dtype: int64\n",
      "1    10673\n",
      "2    10306\n",
      "3      611\n",
      "4        7\n",
      "Name: floors, dtype: int64\n",
      "0    21434\n",
      "1      163\n",
      "Name: waterfront, dtype: int64\n",
      "0    19475\n",
      "2      961\n",
      "3      510\n",
      "1      332\n",
      "4      319\n",
      "Name: view, dtype: int64\n",
      "3    14020\n",
      "4     5677\n",
      "5     1701\n",
      "2      170\n",
      "1       29\n",
      "Name: condition, dtype: int64\n",
      "7     8974\n",
      "8     6065\n",
      "9     2615\n",
      "6     2038\n",
      "10    1134\n",
      "11     399\n",
      "5      242\n",
      "12      89\n",
      "4       27\n",
      "13      13\n",
      "3        1\n",
      "Name: grade, dtype: int64\n",
      "2014    559\n",
      "2006    453\n",
      "2005    450\n",
      "2004    433\n",
      "2003    420\n",
      "       ... \n",
      "1933     30\n",
      "1901     29\n",
      "1902     27\n",
      "1935     24\n",
      "1934     21\n",
      "Name: yr_built, Length: 116, dtype: int64\n",
      "1540    197\n",
      "1440    195\n",
      "1560    192\n",
      "1500    180\n",
      "1460    169\n",
      "       ... \n",
      "1132      1\n",
      "1941      1\n",
      "1696      1\n",
      "5220      1\n",
      "1572      1\n",
      "Name: sqft_living15, Length: 777, dtype: int64\n",
      "5000     427\n",
      "4000     356\n",
      "6000     288\n",
      "7200     210\n",
      "4800     145\n",
      "        ... \n",
      "7075       1\n",
      "29620      1\n",
      "8227       1\n",
      "45000      1\n",
      "10387      1\n",
      "Name: sqft_lot15, Length: 8682, dtype: int64\n",
      "450000    172\n",
      "350000    172\n",
      "550000    159\n",
      "500000    152\n",
      "425000    150\n",
      "         ... \n",
      "533050      1\n",
      "532170      1\n",
      "531800      1\n",
      "531500      1\n",
      "78000       1\n",
      "Name: price, Length: 3622, dtype: int64\n",
      "5     7554\n",
      "6     5409\n",
      "4     2930\n",
      "7     2102\n",
      "3     1615\n",
      "8     1198\n",
      "9      435\n",
      "2      169\n",
      "10     108\n",
      "11      48\n",
      "12      12\n",
      "13       7\n",
      "14       5\n",
      "15       2\n",
      "35       1\n",
      "17       1\n",
      "1        1\n",
      "Name: rooms, dtype: int64\n"
     ]
    },
    {
     "data": {
      "image/png": "[encoded data removed]",
      "text/plain": [
       "<Figure size 640x480 with 1 Axes>"
      ]
     },
     "metadata": {},
     "output_type": "display_data"
    }
   ],
   "source": [
    "print(dataframe_regresion.groupby('bedrooms')['price'].mean())\n",
    "print(dataframe_regresion.groupby('bedrooms')['sqft_living15'].mean())\n",
    "print(dataframe_regresion.groupby('waterfront')['price'].mean())\n",
    "print(dataframe_regresion.groupby('condition')['grade'].mean())\n",
    "dataframe_regresion.groupby('condition')['grade'].mean().plot(kind='bar')\n",
    "\n",
    "categorias = [\"id\", \"bedrooms\", \"bathrooms\", \"floors\", \"waterfront\", \"view\",\n",
    "              \"condition\", \"grade\", \"yr_built\", \"sqft_living15\", \"sqft_lot15\", \"price\", \"rooms\"]\n",
    "for i in categorias:\n",
    "    print(dataframe_regresion[i].value_counts())"
   ]
  },
  {
   "cell_type": "markdown",
   "metadata": {},
   "source": [
    "One of the customers is only interested in the following houses:\n",
    "\n",
    "    - Number of bedrooms either 3 or 4\n",
    "    \n",
    "    - Bathrooms more than 3\n",
    "    \n",
    "    - One Floor\n",
    "    \n",
    "    - No waterfront\n",
    "    \n",
    "    - Condition should be 3 at least\n",
    "    \n",
    "    - Grade should be 5 at least\n",
    "    \n",
    "    - Price smaller than 300000\"\"\")"
   ]
  },
  {
   "cell_type": "code",
   "execution_count": 15,
   "metadata": {},
   "outputs": [
    {
     "name": "stdout",
     "output_type": "stream",
     "text": [
      "               id  bedrooms bathrooms floors  waterfront  view  condition  \\\n",
      "0      7129300520         3         1      1           0     0          3   \n",
      "1      6414100192         3         2      2           0     0          3   \n",
      "4      1954400510         3         2      1           0     0          3   \n",
      "6      1321400060         3         2      2           0     0          3   \n",
      "7      2008000270         3         2      1           0     0          3   \n",
      "...           ...       ...       ...    ...         ...   ...        ...   \n",
      "21587  7852140040         3         2      2           0     0          3   \n",
      "21588  9834201367         3         2      3           0     0          3   \n",
      "21591  2997800021         3         2      2           0     0          3   \n",
      "21592   263000018         3         2      3           0     0          3   \n",
      "21595   291310100         3         2      2           0     0          3   \n",
      "\n",
      "       grade  yr_built  yr_renovated  zipcode  sqft_living15  sqft_lot15  \\\n",
      "0          7      1955             0    98178           1340        5650   \n",
      "1          7      1951          1991    98125           1690        7639   \n",
      "4          8      1987             0    98074           1800        7503   \n",
      "6          7      1995             0    98003           2238        6819   \n",
      "7          7      1963             0    98198           1650        9711   \n",
      "...      ...       ...           ...      ...            ...         ...   \n",
      "21587      8      2003             0    98065           2270        5731   \n",
      "21588      8      2014             0    98144           1400        1230   \n",
      "21591      8      2008             0    98116           1330        1265   \n",
      "21592      8      2009             0    98103           1530        1509   \n",
      "21595      8      2004             0    98027           1410        1287   \n",
      "\n",
      "        price  rooms  \n",
      "0      221900      4  \n",
      "1      538000      5  \n",
      "4      510000      5  \n",
      "6      257500      5  \n",
      "7      291850      5  \n",
      "...       ...    ...  \n",
      "21587  507250      5  \n",
      "21588  429000      5  \n",
      "21591  475000      5  \n",
      "21592  360000      5  \n",
      "21595  400000      5  \n",
      "\n",
      "[9824 rows x 15 columns]\n"
     ]
    }
   ],
   "source": [
    "data_cliente = dataframe[(dataframe['bedrooms'] == 3) | (dataframe['bedrooms'] == 4) & (dataframe['bathrooms'] > 3) & (dataframe['floors'] == 1) & (dataframe['waterfront'] == 0) & (dataframe['condition'] >= 3) & (dataframe['grade'] >= 5) & (dataframe['price'] < 300000)]\n",
    "\n",
    "print(data_cliente)"
   ]
  },
  {
   "cell_type": "markdown",
   "metadata": {},
   "source": [
    "Your manager wants to find out the list of properties whose prices are twice more than the average of all the properties in the database. Write code to show them the list of such properties."
   ]
  },
  {
   "cell_type": "code",
   "execution_count": 16,
   "metadata": {},
   "outputs": [
    {
     "name": "stdout",
     "output_type": "stream",
     "text": [
      "               id  bedrooms  bathrooms  floors  waterfront  view  condition  \\\n",
      "7245   6762700020         6          8       2           0     3          4   \n",
      "3910   9808700762         5          4       2           1     2          3   \n",
      "9245   9208900037         6          8       2           0     4          3   \n",
      "4407   2470100110         5          6       2           0     0          3   \n",
      "1446   8907500070         5          5       2           0     4          3   \n",
      "...           ...       ...        ...     ...         ...   ...        ...   \n",
      "15546  1326059182         5          3       2           0     0          3   \n",
      "5060   4385700660         3          2       2           0     0          5   \n",
      "12549  3760500730         4          3       2           0     3          4   \n",
      "8664   4151800530         4          2       2           0     0          3   \n",
      "18761  4147200040         5          2       1           0     0          4   \n",
      "\n",
      "       grade  yr_built  yr_renovated  zipcode  sqft_living15  sqft_lot15  \\\n",
      "7245      13      1910          1987    98102           3940        8800   \n",
      "3910      11      1940          2001    98004           3930       25449   \n",
      "9245      13      2001             0    98039           4540       42730   \n",
      "4407      13      2001             0    98039           3560       24345   \n",
      "1446      12      2009             0    98004           4600       21750   \n",
      "...      ...       ...           ...      ...            ...         ...   \n",
      "15546     10      1988             0    98072           3470       75794   \n",
      "5060       8      1927             0    98112           2560        4000   \n",
      "12549      9      1980             0    98034           3010       10650   \n",
      "8664       9      2004             0    98033           1160        6837   \n",
      "18761     10      1976             0    98040           2760       13927   \n",
      "\n",
      "         price  rooms  \n",
      "7245   7700000     14  \n",
      "3910   7060000      9  \n",
      "9245   6890000     14  \n",
      "4407   5570000     11  \n",
      "1446   5350000     10  \n",
      "...        ...    ...  \n",
      "15546  1090000      8  \n",
      "5060   1090000      5  \n",
      "12549  1090000      7  \n",
      "8664   1090000      6  \n",
      "18761  1090000      7  \n",
      "\n",
      "[1246 rows x 15 columns]\n"
     ]
    }
   ],
   "source": [
    "def manager():\n",
    "    dataframe_manager = dataframe_regresion[dataframe_regresion['price']\n",
    "                                            > dataframe_regresion['price'].mean() * 2]\n",
    "    return dataframe_manager\n",
    "\n",
    "\n",
    "print(manager())"
   ]
  },
  {
   "cell_type": "markdown",
   "metadata": {},
   "source": [
    "Most customers are interested in properties with three or four bedrooms. What is the difference in average prices of the properties with three and four bedrooms? In this case you can simply use a `groupby` to check the prices for those particular houses"
   ]
  },
  {
   "cell_type": "code",
   "execution_count": 17,
   "metadata": {},
   "outputs": [
    {
     "name": "stdout",
     "output_type": "stream",
     "text": [
      "bedrooms\n",
      "1     3.182395e+05\n",
      "2     4.013877e+05\n",
      "3     4.662766e+05\n",
      "4     6.355647e+05\n",
      "5     7.868741e+05\n",
      "6     8.258535e+05\n",
      "7     9.514478e+05\n",
      "8     1.105077e+06\n",
      "9     8.939998e+05\n",
      "10    8.200000e+05\n",
      "11    5.200000e+05\n",
      "33    6.400000e+05\n",
      "Name: price, dtype: float64\n"
     ]
    }
   ],
   "source": [
    "print(dataframe_regresion.groupby('bedrooms')['price'].mean())"
   ]
  },
  {
   "cell_type": "markdown",
   "metadata": {},
   "source": [
    "What are the different locations where properties are available in your database? (distinct zip codes)."
   ]
  },
  {
   "cell_type": "code",
   "execution_count": 18,
   "metadata": {},
   "outputs": [
    {
     "name": "stdout",
     "output_type": "stream",
     "text": [
      "[98178 98125 98028 98136 98074 98053 98003 98198 98146 98038 98007 98115\n",
      " 98107 98126 98019 98103 98002 98133 98040 98092 98030 98119 98112 98052\n",
      " 98027 98117 98058 98001 98056 98166 98023 98070 98148 98105 98042 98008\n",
      " 98059 98122 98144 98004 98005 98034 98075 98116 98010 98118 98199 98032\n",
      " 98045 98102 98077 98108 98168 98177 98065 98029 98006 98109 98022 98033\n",
      " 98155 98024 98011 98031 98106 98072 98188 98014 98055 98039]\n",
      "Las localizaciones son por la zona de Seattle, Tacoma y alrededores\n"
     ]
    }
   ],
   "source": [
    "print(dataframe[\"zipcode\"].unique())\n",
    "print(\"Las localizaciones son por la zona de Seattle, Tacoma y alrededores\")"
   ]
  },
  {
   "cell_type": "markdown",
   "metadata": {},
   "source": [
    "Show all the properties that were renovated."
   ]
  },
  {
   "cell_type": "code",
   "execution_count": 19,
   "metadata": {},
   "outputs": [
    {
     "name": "stdout",
     "output_type": "stream",
     "text": [
      "               id  bedrooms bathrooms floors  waterfront  view  condition  \\\n",
      "1      6414100192         3         2      2           0     0          3   \n",
      "35     9547205180         3         2      2           0     0          3   \n",
      "95     1483300570         4         2      1           0     0          3   \n",
      "103    2450000295         3         2      2           0     0          3   \n",
      "115    3626039325         3         4      2           0     0          3   \n",
      "...           ...       ...       ...    ...         ...   ...        ...   \n",
      "19606  7351200295         3         2      2           1     4          3   \n",
      "20041   126039256         3         2      2           0     0          3   \n",
      "20428  4305600360         4         2      1           0     0          3   \n",
      "20431  3319500628         3         2      2           0     0          3   \n",
      "20946  1278000210         2         1      1           0     0          3   \n",
      "\n",
      "       grade  yr_built  yr_renovated  zipcode  sqft_living15  sqft_lot15  \\\n",
      "1          7      1951          1991    98125           1690        7639   \n",
      "35         8      1930          2002    98115           1590        3264   \n",
      "95         7      1946          1991    98040           1950        6045   \n",
      "103        8      1950          2010    98004           2370        8113   \n",
      "115        8      1900          1999    98117           1830        6350   \n",
      "...      ...       ...           ...      ...            ...         ...   \n",
      "19606      7      1940          1960    98125           1630        7588   \n",
      "20041      7      1977          2006    98177           1860        8710   \n",
      "20428      8      1962          2009    98059           2430        5539   \n",
      "20431      8      1971          2014    98144           1010        1517   \n",
      "20946      6      1968          2007    98001            828        5402   \n",
      "\n",
      "         price  rooms  \n",
      "1       538000      5  \n",
      "35      696000      5  \n",
      "95      905000      6  \n",
      "103    1090000      5  \n",
      "115     740500      7  \n",
      "...        ...    ...  \n",
      "19606  1150000      5  \n",
      "20041   434900      5  \n",
      "20428   500012      6  \n",
      "20431   356999      5  \n",
      "20946   110000      3  \n",
      "\n",
      "[914 rows x 15 columns]\n"
     ]
    }
   ],
   "source": [
    "print(dataframe[dataframe['yr_renovated'] != 0])"
   ]
  },
  {
   "cell_type": "markdown",
   "metadata": {},
   "source": [
    "Provide the details of the property that is the 11th most expensive property in your database."
   ]
  },
  {
   "cell_type": "code",
   "execution_count": 20,
   "metadata": {},
   "outputs": [
    {
     "name": "stdout",
     "output_type": "stream",
     "text": [
      "id               6065300370\n",
      "bedrooms                  5\n",
      "bathrooms                 6\n",
      "floors                    2\n",
      "waterfront                0\n",
      "view                      0\n",
      "condition                 3\n",
      "grade                    12\n",
      "yr_built               2003\n",
      "yr_renovated              0\n",
      "zipcode               98006\n",
      "sqft_living15          4740\n",
      "sqft_lot15            19329\n",
      "price               4210000\n",
      "rooms                    11\n",
      "Name: 12358, dtype: int64\n"
     ]
    }
   ],
   "source": [
    "print(dataframe_regresion.sort_values(by='price', ascending=False).iloc[10])"
   ]
  }
 ],
 "metadata": {
  "kernelspec": {
   "display_name": "Python 3.9.13 ('base')",
   "language": "python",
   "name": "python3"
  },
  "language_info": {
   "codemirror_mode": {
    "name": "ipython",
    "version": 3
   },
   "file_extension": ".py",
   "mimetype": "text/x-python",
   "name": "python",
   "nbconvert_exporter": "python",
   "pygments_lexer": "ipython3",
   "version": "3.9.13"
  },
  "orig_nbformat": 4,
  "vscode": {
   "interpreter": {
    "hash": "e06ff7da33dc9620448857a90ad8b5f428f0d573d205a934d2841c8aee45ea32"
   }
  }
 },
 "nbformat": 4,
 "nbformat_minor": 2
}
